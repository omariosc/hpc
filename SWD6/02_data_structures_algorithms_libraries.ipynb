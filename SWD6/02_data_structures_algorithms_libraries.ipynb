{
  "cells": [
    {
      "cell_type": "markdown",
      "metadata": {
        "id": "view-in-github",
        "colab_type": "text"
      },
      "source": [
        "<a href=\"https://colab.research.google.com/github/omariosc/hpc/blob/main/SWD6/02_data_structures_algorithms_libraries.ipynb\" target=\"_parent\"><img src=\"https://colab.research.google.com/assets/colab-badge.svg\" alt=\"Open In Colab\"/></a>"
      ]
    },
    {
      "cell_type": "markdown",
      "id": "591316ac-72a9-4d80-8220-0267b16f1358",
      "metadata": {
        "id": "591316ac-72a9-4d80-8220-0267b16f1358"
      },
      "source": [
        "# Data Structures, Algorithms, and Libraries"
      ]
    },
    {
      "cell_type": "markdown",
      "id": "94351edd-5d8b-4a0b-b552-aa2eefecef88",
      "metadata": {
        "id": "94351edd-5d8b-4a0b-b552-aa2eefecef88"
      },
      "source": [
        "[![Open in Colab](https://colab.research.google.com/assets/colab-badge.svg)](https://colab.research.google.com/github/ARCTraining/swd6_hpp/blob/master/docs/02_data_structures_algorithms_libraries.ipynb)"
      ]
    },
    {
      "cell_type": "code",
      "execution_count": 33,
      "id": "a06a0187-cad0-4998-abfe-b268b4d8ce53",
      "metadata": {
        "id": "a06a0187-cad0-4998-abfe-b268b4d8ce53"
      },
      "outputs": [],
      "source": [
        "# if you're using colab, then install the required modules\n",
        "import sys\n",
        "\n",
        "IN_COLAB = \"google.colab\" in sys.modules\n",
        "if IN_COLAB:\n",
        "    %pip install --quiet algorithms"
      ]
    },
    {
      "cell_type": "markdown",
      "id": "5b5e4991-2286-4c93-b9cc-2a08e7511ddc",
      "metadata": {
        "id": "5b5e4991-2286-4c93-b9cc-2a08e7511ddc"
      },
      "source": [
        "Python comes with a [standard library](https://docs.python.org/3/library/index.html).\n",
        "\n",
        "This includes:\n",
        "\n",
        "- [Built-in functions](https://docs.python.org/3/library/functions.html) (e.g., `len`)\n",
        "- [Data types/structures](https://docs.python.org/3/library/stdtypes.html)\n",
        "    - [Numerics](https://docs.python.org/3/library/stdtypes.html#numeric-types-int-float-complex) (e.g., `int`, `float`)\n",
        "    - [Sequences](https://docs.python.org/3/library/stdtypes.html#sequence-types-list-tuple-range) (e.g., `list`, `str`)\n",
        "    - [Mappings](https://docs.python.org/3/library/stdtypes.html#mapping-types-dict) (e.g., `dict`)\n",
        "- Modules\n",
        "    - [Numeric and Mathematical](https://docs.python.org/3/library/numeric.html) (e.g., `math`)\n",
        "\n",
        "And lots more. They are optimised in C (statically typed and compiled). Hence, they're often faster than reimplementing them yourself. They provide standardised solutions for many problems that occur in everyday programming.\n",
        "\n"
      ]
    },
    {
      "cell_type": "markdown",
      "id": "d67b6d67-1ee6-4f4b-9d8d-8771c16b265b",
      "metadata": {
        "id": "d67b6d67-1ee6-4f4b-9d8d-8771c16b265b"
      },
      "source": [
        "## [Built-in functions](https://docs.python.org/3/library/functions.html)"
      ]
    },
    {
      "cell_type": "markdown",
      "id": "daae1cfb-6ea0-4942-85d4-4a61abb99459",
      "metadata": {
        "id": "daae1cfb-6ea0-4942-85d4-4a61abb99459"
      },
      "source": [
        "### [`len`](https://docs.python.org/3/library/functions.html#len)\n",
        "\n",
        "Return the length (the number of items) of an object. The argument may be a sequence (e.g., list) or a collection (e.g., dictionary)."
      ]
    },
    {
      "cell_type": "markdown",
      "id": "81af4d5c-8164-4929-aa6a-fc4775693257",
      "metadata": {
        "id": "81af4d5c-8164-4929-aa6a-fc4775693257"
      },
      "source": [
        "```{tip}\n",
        "Use `len` rather than counting the items in an object in a loop.\n",
        "```"
      ]
    },
    {
      "cell_type": "code",
      "execution_count": 34,
      "id": "f563c49a-3dd3-435e-9ef5-9df8a55d3a65",
      "metadata": {
        "id": "f563c49a-3dd3-435e-9ef5-9df8a55d3a65"
      },
      "outputs": [],
      "source": [
        "nums = [num for num in range(1_000_000)]"
      ]
    },
    {
      "cell_type": "code",
      "execution_count": 35,
      "id": "79cb72e1-870f-46df-a655-d88ef66dc114",
      "metadata": {
        "colab": {
          "base_uri": "https://localhost:8080/"
        },
        "id": "79cb72e1-870f-46df-a655-d88ef66dc114",
        "outputId": "e53751b1-4171-413c-f006-d66902ef1fec"
      },
      "outputs": [
        {
          "output_type": "stream",
          "name": "stdout",
          "text": [
            "89.6 ms ± 28.6 ms per loop (mean ± std. dev. of 7 runs, 10 loops each)\n"
          ]
        }
      ],
      "source": [
        "%%timeit\n",
        "count = 0\n",
        "for num in nums:  # time O(n)\n",
        "    count += 1"
      ]
    },
    {
      "cell_type": "code",
      "execution_count": 36,
      "id": "e81f47a5-eb1e-41ba-89af-2eb3c1e0a4e8",
      "metadata": {
        "colab": {
          "base_uri": "https://localhost:8080/"
        },
        "id": "e81f47a5-eb1e-41ba-89af-2eb3c1e0a4e8",
        "outputId": "e96ed550-be2d-4e64-afa8-6bb6e27b5188"
      },
      "outputs": [
        {
          "output_type": "stream",
          "name": "stdout",
          "text": [
            "132 ns ± 67.9 ns per loop (mean ± std. dev. of 7 runs, 10000000 loops each)\n"
          ]
        }
      ],
      "source": [
        "%%timeit\n",
        "len(nums)  # time O(1)"
      ]
    },
    {
      "cell_type": "markdown",
      "id": "fe503115-44ee-45b8-97fd-a05ad041cedd",
      "metadata": {
        "id": "fe503115-44ee-45b8-97fd-a05ad041cedd"
      },
      "source": [
        "## [Data types/structures](https://docs.python.org/3/library/datatypes.html)"
      ]
    },
    {
      "cell_type": "markdown",
      "id": "0f2edb15-e272-45f4-98fb-289dc9629d15",
      "metadata": {
        "tags": [],
        "id": "0f2edb15-e272-45f4-98fb-289dc9629d15"
      },
      "source": [
        "### [Lists](https://docs.python.org/3/tutorial/datastructures.html#more-on-lists)\n",
        "\n",
        "A sequence of objects."
      ]
    },
    {
      "cell_type": "markdown",
      "id": "1468b5f4-ef94-4766-a800-1d8d28071075",
      "metadata": {
        "id": "1468b5f4-ef94-4766-a800-1d8d28071075"
      },
      "source": [
        "```{tip}\n",
        "\n",
        "Append to lists, rather than concatenating.  \n",
        "\n",
        "Lists are allocated twice the memory required, so appending fills this up in O(1) (long-term average), while concatenating creates a new list each time in O(n).\n",
        "\n",
        "```"
      ]
    },
    {
      "cell_type": "code",
      "execution_count": 37,
      "id": "336d761f-4583-460c-b4ab-4baca920665c",
      "metadata": {
        "colab": {
          "base_uri": "https://localhost:8080/"
        },
        "id": "336d761f-4583-460c-b4ab-4baca920665c",
        "outputId": "cca9ff5b-a3e4-4da6-f671-ec5d1ae8b8de"
      },
      "outputs": [
        {
          "output_type": "stream",
          "name": "stdout",
          "text": [
            "167 µs ± 81 µs per loop (mean ± std. dev. of 7 runs, 10000 loops each)\n"
          ]
        }
      ],
      "source": [
        "%%timeit\n",
        "my_list = []\n",
        "for num in range(1_000):\n",
        "    my_list += [num]  # time O(n)"
      ]
    },
    {
      "cell_type": "code",
      "execution_count": 38,
      "id": "e79a0bd4-b8b3-44bf-a58a-afdee570eeb4",
      "metadata": {
        "colab": {
          "base_uri": "https://localhost:8080/"
        },
        "id": "e79a0bd4-b8b3-44bf-a58a-afdee570eeb4",
        "outputId": "51b03e52-08a6-48c9-949c-3581f11e395f"
      },
      "outputs": [
        {
          "output_type": "stream",
          "name": "stdout",
          "text": [
            "94.8 µs ± 26.8 µs per loop (mean ± std. dev. of 7 runs, 10000 loops each)\n"
          ]
        }
      ],
      "source": [
        "%%timeit\n",
        "my_list = []\n",
        "for num in range(1_000):\n",
        "    my_list.append(num)  # time O(1)"
      ]
    },
    {
      "cell_type": "markdown",
      "id": "b06313a5",
      "metadata": {
        "id": "b06313a5"
      },
      "source": [
        "### [Numpy arrays](https://numpy.org/doc/stable/reference/generated/numpy.array.html)\n",
        "\n",
        "Like a list, but optimised for handling numerical data. They are less flexible than lists, as they cannot contain heterogeneous data. They are however generally faster than lists when performing computations, allowing application of efficient element-wise computations and mathematical functions, implemented in C. They also typically have a smaller memory overhead."
      ]
    },
    {
      "cell_type": "code",
      "execution_count": 39,
      "id": "ab40817f",
      "metadata": {
        "id": "ab40817f"
      },
      "outputs": [],
      "source": [
        "import numpy as np"
      ]
    },
    {
      "cell_type": "code",
      "execution_count": 40,
      "id": "620c9465",
      "metadata": {
        "colab": {
          "base_uri": "https://localhost:8080/"
        },
        "id": "620c9465",
        "outputId": "573c809a-17c4-464d-f659-948c74eca983"
      },
      "outputs": [
        {
          "output_type": "stream",
          "name": "stdout",
          "text": [
            "196 µs ± 5.68 µs per loop (mean ± std. dev. of 7 runs, 1000 loops each)\n"
          ]
        }
      ],
      "source": [
        "%%timeit\n",
        "my_list = range(10000)\n",
        "my_sum = sum(my_list)"
      ]
    },
    {
      "cell_type": "code",
      "execution_count": 41,
      "id": "a81653e4",
      "metadata": {
        "colab": {
          "base_uri": "https://localhost:8080/"
        },
        "id": "a81653e4",
        "outputId": "c756ecf0-5552-4bd7-f701-10011d65ba2b"
      },
      "outputs": [
        {
          "output_type": "stream",
          "name": "stdout",
          "text": [
            "6.13 µs ± 1.01 µs per loop (mean ± std. dev. of 7 runs, 100000 loops each)\n"
          ]
        }
      ],
      "source": [
        "%%timeit\n",
        "my_array = np.arange(10000)\n",
        "my_sum = my_array.sum"
      ]
    },
    {
      "cell_type": "markdown",
      "id": "c7f4eb07-70a9-44cf-93b5-7e3c0a95544c",
      "metadata": {
        "id": "c7f4eb07-70a9-44cf-93b5-7e3c0a95544c"
      },
      "source": [
        "### [Dictionaries](https://docs.python.org/3/tutorial/datastructures.html#dictionaries)\n",
        "\n",
        "A set of key:value pairs, where the keys are unique and immutable indices."
      ]
    },
    {
      "cell_type": "markdown",
      "id": "d617d5aa-24e1-4b81-abf9-850144d7a71b",
      "metadata": {
        "id": "d617d5aa-24e1-4b81-abf9-850144d7a71b"
      },
      "source": [
        "```{tip}\n",
        "Use dictionaries as look-ups, as they're fast to search, O(1).\n",
        "```"
      ]
    },
    {
      "cell_type": "markdown",
      "id": "3c53aedd-cdbf-41bf-9a8b-4159efd5b451",
      "metadata": {
        "id": "3c53aedd-cdbf-41bf-9a8b-4159efd5b451"
      },
      "source": [
        "*Example from Luciano Ramalho, [Fluent Python, Clear, Concise, and Effective Programming](https://www.oreilly.com/library/view/fluent-python/9781491946237/), 2015. O'Reilly Media, Inc.*"
      ]
    },
    {
      "cell_type": "code",
      "execution_count": 42,
      "id": "cef32a95-7c84-49ae-883f-2531e4caf580",
      "metadata": {
        "id": "cef32a95-7c84-49ae-883f-2531e4caf580"
      },
      "outputs": [],
      "source": [
        "haystack_list = np.random.uniform(low=0, high=100, size=(1_000_000))\n",
        "haystack_dict = {key: value for key, value in enumerate(haystack_list)}\n",
        "needles = [0.1, 50.1, 99.1]"
      ]
    },
    {
      "cell_type": "code",
      "execution_count": 43,
      "id": "11fea428-80ad-4343-9779-b49c9b02ffbd",
      "metadata": {
        "colab": {
          "base_uri": "https://localhost:8080/"
        },
        "id": "11fea428-80ad-4343-9779-b49c9b02ffbd",
        "outputId": "7d402a5d-80c2-4f01-c8a3-09a5fcd47783"
      },
      "outputs": [
        {
          "output_type": "stream",
          "name": "stdout",
          "text": [
            "1.54 ms ± 95.3 µs per loop (mean ± std. dev. of 7 runs, 100 loops each)\n"
          ]
        }
      ],
      "source": [
        "%%timeit\n",
        "needles_found = 0\n",
        "for needle in needles:\n",
        "    if needle in haystack_list:  # time O(n) within list\n",
        "        needles_found += 1"
      ]
    },
    {
      "cell_type": "code",
      "execution_count": 44,
      "id": "54d68f59-7100-4618-92f8-d74cf73c9b96",
      "metadata": {
        "colab": {
          "base_uri": "https://localhost:8080/"
        },
        "id": "54d68f59-7100-4618-92f8-d74cf73c9b96",
        "outputId": "025d3967-f33a-4348-c971-1ccb2da93e63"
      },
      "outputs": [
        {
          "output_type": "stream",
          "name": "stdout",
          "text": [
            "381 ns ± 116 ns per loop (mean ± std. dev. of 7 runs, 1000000 loops each)\n"
          ]
        }
      ],
      "source": [
        "%%timeit\n",
        "needles_found = 0\n",
        "for needle in needles:\n",
        "    if needle in haystack_dict:  # time O(1) within dict\n",
        "        needles_found += 1"
      ]
    },
    {
      "cell_type": "markdown",
      "id": "126dd509-40f0-4f00-be42-00cf61fa1769",
      "metadata": {
        "id": "126dd509-40f0-4f00-be42-00cf61fa1769"
      },
      "source": [
        "```{tip}\n",
        "Reduce repeated calculations with [caching](https://realpython.com/lru-cache-python/).\n",
        "```"
      ]
    },
    {
      "cell_type": "markdown",
      "id": "cad264eb-a366-46a5-b2aa-96fbc73fe796",
      "metadata": {
        "id": "cad264eb-a366-46a5-b2aa-96fbc73fe796"
      },
      "source": [
        "For example, use caching with the [Fibonacci sequence](https://en.wikipedia.org/wiki/Fibonacci_number) (each number is the sum of the two preceding ones starting from 0 and 1 e.g. 0, 1, 1, 2, 3, 5, 8, 13, 21, 34)."
      ]
    },
    {
      "cell_type": "code",
      "execution_count": 45,
      "id": "2e0a1a4b-25df-479a-94c9-ea3c1efef98e",
      "metadata": {
        "id": "2e0a1a4b-25df-479a-94c9-ea3c1efef98e"
      },
      "outputs": [],
      "source": [
        "def fibonacci(n):  # time O(2^n) as 2 calls to the function n times\n",
        "    # (a balanced tree of repeated calls)\n",
        "    if n == 0 or n == 1:\n",
        "        return 0\n",
        "    elif n == 2:\n",
        "        return 1\n",
        "    else:\n",
        "        return fibonacci(n - 1) + fibonacci(n - 2)"
      ]
    },
    {
      "cell_type": "code",
      "execution_count": 46,
      "id": "825cd1ea-36ba-4cbb-b986-829e47bd5817",
      "metadata": {
        "colab": {
          "base_uri": "https://localhost:8080/"
        },
        "id": "825cd1ea-36ba-4cbb-b986-829e47bd5817",
        "outputId": "3f52f513-817a-4890-a352-38ff361db9e1"
      },
      "outputs": [
        {
          "output_type": "stream",
          "name": "stdout",
          "text": [
            "2.36 ms ± 105 µs per loop (mean ± std. dev. of 7 runs, 100 loops each)\n"
          ]
        }
      ],
      "source": [
        "%timeit fibonacci(20)"
      ]
    },
    {
      "cell_type": "code",
      "execution_count": 47,
      "id": "132bad14-75d7-40b1-a62c-d1ee4ae388c0",
      "metadata": {
        "id": "132bad14-75d7-40b1-a62c-d1ee4ae388c0"
      },
      "outputs": [],
      "source": [
        "def fibonacci_with_caching(n, cache={0: 0, 1: 0, 2: 1}):  # time O(n) as 1 call per n\n",
        "    if n in cache:\n",
        "        return cache[n]\n",
        "    else:\n",
        "        cache[n] = fibonacci_with_caching(n - 1, cache) + fibonacci_with_caching(\n",
        "            n - 2, cache\n",
        "        )\n",
        "        return cache[n]"
      ]
    },
    {
      "cell_type": "code",
      "execution_count": 48,
      "id": "a2aa251f-4a6f-4877-a855-b9f99e2d2d71",
      "metadata": {
        "colab": {
          "base_uri": "https://localhost:8080/"
        },
        "id": "a2aa251f-4a6f-4877-a855-b9f99e2d2d71",
        "outputId": "525a6794-46f5-45cf-8da6-98912749ddf2"
      },
      "outputs": [
        {
          "output_type": "stream",
          "name": "stdout",
          "text": [
            "8.02 µs ± 859 ns per loop (mean ± std. dev. of 7 runs, 100000 loops each)\n"
          ]
        }
      ],
      "source": [
        "%timeit fibonacci_with_caching(20, cache={0: 0, 1: 0, 2: 1})"
      ]
    },
    {
      "cell_type": "markdown",
      "id": "56fb7a14-0441-45a5-a5d4-8cff820ff1e6",
      "metadata": {
        "id": "56fb7a14-0441-45a5-a5d4-8cff820ff1e6"
      },
      "source": [
        "```{admonition} Question 1\n",
        "\n",
        "Which of the following uses less memory and how can you check?\n",
        "\n",
        "- `np.float16`  \n",
        "- `np.float32`  \n",
        "- `np.float64`  \n",
        "\n",
        "```"
      ]
    },
    {
      "cell_type": "markdown",
      "id": "1ad2420a",
      "metadata": {
        "id": "1ad2420a"
      },
      "source": [
        "### [Tuples](https://docs.python.org/3/tutorial/datastructures.html#tuples-and-sequences)\n",
        "\n",
        "Tuples are similar to dictionaries, in that they are immutable, and similar to lists, in that they are indexed in order.\n",
        "\n",
        "If mutability is not required, they have a memory advantage over lists, as they don't over-allocate to allow for dynamic resizing, mathematical operations or appending:"
      ]
    },
    {
      "cell_type": "code",
      "execution_count": 49,
      "id": "beb983e2",
      "metadata": {
        "colab": {
          "base_uri": "https://localhost:8080/"
        },
        "id": "beb983e2",
        "outputId": "70112a78-8ff4-49f4-d16d-21b32ec6dd1f"
      },
      "outputs": [
        {
          "output_type": "execute_result",
          "data": {
            "text/plain": [
              "136"
            ]
          },
          "metadata": {},
          "execution_count": 49
        }
      ],
      "source": [
        "sys.getsizeof(list(iter(range(10))))"
      ]
    },
    {
      "cell_type": "code",
      "execution_count": 50,
      "id": "7f19f317",
      "metadata": {
        "colab": {
          "base_uri": "https://localhost:8080/"
        },
        "id": "7f19f317",
        "outputId": "50dbde71-1832-46e3-f1f6-c61149f4f532"
      },
      "outputs": [
        {
          "output_type": "execute_result",
          "data": {
            "text/plain": [
              "120"
            ]
          },
          "metadata": {},
          "execution_count": 50
        }
      ],
      "source": [
        "sys.getsizeof(tuple(iter(range(10))))"
      ]
    },
    {
      "cell_type": "markdown",
      "id": "dc7e1e3b",
      "metadata": {
        "id": "dc7e1e3b"
      },
      "source": [
        "This means they are also faster to instantiate:"
      ]
    },
    {
      "cell_type": "code",
      "execution_count": 51,
      "id": "db3a9f3c",
      "metadata": {
        "colab": {
          "base_uri": "https://localhost:8080/"
        },
        "id": "db3a9f3c",
        "outputId": "fea4f197-d494-4d69-ba5a-d4bf306be7d1"
      },
      "outputs": [
        {
          "output_type": "stream",
          "name": "stdout",
          "text": [
            "84.1 ns ± 50.6 ns per loop (mean ± std. dev. of 7 runs, 10000000 loops each)\n"
          ]
        }
      ],
      "source": [
        "%%timeit\n",
        "my_list = [11, 12, 99, 50, 2030]"
      ]
    },
    {
      "cell_type": "code",
      "execution_count": 52,
      "id": "270e9444",
      "metadata": {
        "colab": {
          "base_uri": "https://localhost:8080/"
        },
        "id": "270e9444",
        "outputId": "40957355-3ae7-400d-98f1-9b23d4dcac5b"
      },
      "outputs": [
        {
          "output_type": "stream",
          "name": "stdout",
          "text": [
            "20.6 ns ± 5.74 ns per loop (mean ± std. dev. of 7 runs, 100000000 loops each)\n"
          ]
        }
      ],
      "source": [
        "%%timeit\n",
        "my_tuple = (11, 12, 99, 50, 2030)"
      ]
    },
    {
      "cell_type": "markdown",
      "id": "ebf579bd-7583-480a-9ef0-069f819e733b",
      "metadata": {
        "id": "ebf579bd-7583-480a-9ef0-069f819e733b"
      },
      "source": [
        "## Modules"
      ]
    },
    {
      "cell_type": "markdown",
      "id": "01681149",
      "metadata": {
        "id": "01681149"
      },
      "source": [
        "### [`math`](https://docs.python.org/3/library/math.html)\n",
        "\n",
        "This module provides access to the mathematical functions.\n",
        "\n",
        "So, you could create your own function to calculate the hypotenuse of a triangle:"
      ]
    },
    {
      "cell_type": "code",
      "execution_count": 53,
      "id": "4c59f778-5085-44ae-990e-f0d97578758d",
      "metadata": {
        "id": "4c59f778-5085-44ae-990e-f0d97578758d"
      },
      "outputs": [],
      "source": [
        "def hypotenuse(x, y):\n",
        "    x = abs(x)\n",
        "    y = abs(y)\n",
        "    t = min(x, y)\n",
        "    x = max(x, y)\n",
        "    t = t / x\n",
        "    return x * (1 + t * t) ** 0.5"
      ]
    },
    {
      "cell_type": "code",
      "execution_count": 54,
      "id": "0ea2b324-5fad-4449-907a-9c6ff844a298",
      "metadata": {
        "colab": {
          "base_uri": "https://localhost:8080/"
        },
        "id": "0ea2b324-5fad-4449-907a-9c6ff844a298",
        "outputId": "0ca1aa44-17c3-448b-e96f-393ad75e8468"
      },
      "outputs": [
        {
          "output_type": "stream",
          "name": "stdout",
          "text": [
            "813 ns ± 232 ns per loop (mean ± std. dev. of 7 runs, 1000000 loops each)\n"
          ]
        }
      ],
      "source": [
        "%timeit hypotenuse(3.0, 4.0)"
      ]
    },
    {
      "cell_type": "markdown",
      "id": "29c65088-4739-4311-bb38-8f602bd9fbbd",
      "metadata": {
        "id": "29c65088-4739-4311-bb38-8f602bd9fbbd"
      },
      "source": [
        "However, `math` already has this implemented and optimised:"
      ]
    },
    {
      "cell_type": "code",
      "execution_count": 55,
      "id": "b8aa4bbb",
      "metadata": {
        "id": "b8aa4bbb"
      },
      "outputs": [],
      "source": [
        "import math"
      ]
    },
    {
      "cell_type": "code",
      "execution_count": 56,
      "id": "8affafab",
      "metadata": {
        "colab": {
          "base_uri": "https://localhost:8080/"
        },
        "id": "8affafab",
        "outputId": "3af59808-6700-46b0-8c8f-047e596d3f8e"
      },
      "outputs": [
        {
          "output_type": "stream",
          "name": "stdout",
          "text": [
            "178 ns ± 27 ns per loop (mean ± std. dev. of 7 runs, 10000000 loops each)\n"
          ]
        }
      ],
      "source": [
        "%timeit math.hypot(3.0, 4.0)"
      ]
    },
    {
      "cell_type": "markdown",
      "id": "ff3e3e60-ea4a-4ece-b40b-e6ad9169ac65",
      "metadata": {
        "tags": [],
        "id": "ff3e3e60-ea4a-4ece-b40b-e6ad9169ac65"
      },
      "source": [
        "## Algorithms\n",
        "\n",
        "An algorithm is the instructions (/recipe) to solve a problem.\n",
        "\n",
        "Many existing libraries are already optimised (computationally and algorithmically). For example, the [`algorithm`](https://github.com/keon/algorithms) library has minimal examples of data structures and algorithms in Python e.g., breadth first search, depth first search, linked lists, etc."
      ]
    },
    {
      "cell_type": "markdown",
      "id": "4fd0781b-6d89-488b-8f61-a93f1c6b0b4d",
      "metadata": {
        "id": "4fd0781b-6d89-488b-8f61-a93f1c6b0b4d"
      },
      "source": [
        "### [Sorting](https://en.wikipedia.org/wiki/Sorting_algorithm)"
      ]
    },
    {
      "cell_type": "code",
      "execution_count": 57,
      "id": "ddc3e360-f865-49c6-a3c6-2c931a5df061",
      "metadata": {
        "id": "ddc3e360-f865-49c6-a3c6-2c931a5df061"
      },
      "outputs": [],
      "source": [
        "unsorted_array = np.random.rand(1_000)"
      ]
    },
    {
      "cell_type": "markdown",
      "id": "8accb4ba-7bc0-4036-8965-8e9ab7efb382",
      "metadata": {
        "id": "8accb4ba-7bc0-4036-8965-8e9ab7efb382"
      },
      "source": [
        "#### [Selection sort](https://en.wikipedia.org/wiki/Selection_sort)  \n",
        "\n",
        "*Time O(n^2), space O(1)*\n",
        "\n",
        "1. Have two arrays: one unsorted (original) and one sorted (can do in place to avoid extra memory).\n",
        "2. Find the smallest number in the unsorted array and add it to the sorted array.\n",
        "3. Repeat step 2 until the final index is the largest number (i.e. sorted array)."
      ]
    },
    {
      "cell_type": "code",
      "execution_count": 58,
      "id": "6bbd776c-3e73-4b84-8e40-583c135d33e8",
      "metadata": {
        "id": "6bbd776c-3e73-4b84-8e40-583c135d33e8"
      },
      "outputs": [],
      "source": [
        "from algorithms.sort import selection_sort"
      ]
    },
    {
      "cell_type": "code",
      "execution_count": 59,
      "id": "fd9f6668-7686-43a3-ba3b-42d3d638e502",
      "metadata": {
        "colab": {
          "base_uri": "https://localhost:8080/"
        },
        "id": "fd9f6668-7686-43a3-ba3b-42d3d638e502",
        "outputId": "0be28e91-5e6f-4f6d-8b46-1a09a62c2d03"
      },
      "outputs": [
        {
          "output_type": "stream",
          "name": "stdout",
          "text": [
            "156 ms ± 38.9 ms per loop (mean ± std. dev. of 7 runs, 10 loops each)\n"
          ]
        }
      ],
      "source": [
        "%timeit selection_sort(unsorted_array)"
      ]
    },
    {
      "cell_type": "markdown",
      "id": "0edd9869-ec77-4869-ac7a-87228b529490",
      "metadata": {
        "id": "0edd9869-ec77-4869-ac7a-87228b529490"
      },
      "source": [
        "#### [Merge sort](https://en.wikipedia.org/wiki/Merge_sort)  \n",
        "\n",
        "*Time O(nlgn), space O(n or nlgn, depending on implementation)*\n",
        "\n",
        "1. Divide the array in half.  \n",
        "2. Then recursively apply:  \n",
        "    a. Step 1 to both halves, until hit the base case where both halves are length 1.  \n",
        "    b. Merge the two length 1 arrays into a sorted array of length 2.  \n",
        "    c. Repeat b, all the way up for this half.  "
      ]
    },
    {
      "cell_type": "code",
      "execution_count": 60,
      "id": "88f5d225-6ae7-488f-8daf-ac99c79f2418",
      "metadata": {
        "id": "88f5d225-6ae7-488f-8daf-ac99c79f2418"
      },
      "outputs": [],
      "source": [
        "from algorithms.sort import merge_sort"
      ]
    },
    {
      "cell_type": "code",
      "execution_count": 61,
      "id": "6f264212-a2d1-4192-9589-292566f090b2",
      "metadata": {
        "colab": {
          "base_uri": "https://localhost:8080/"
        },
        "id": "6f264212-a2d1-4192-9589-292566f090b2",
        "outputId": "75919c40-c210-45e6-e39a-1a99b47aafaa"
      },
      "outputs": [
        {
          "output_type": "stream",
          "name": "stdout",
          "text": [
            "5.67 ms ± 86.1 µs per loop (mean ± std. dev. of 7 runs, 100 loops each)\n"
          ]
        }
      ],
      "source": [
        "%timeit merge_sort(unsorted_array)"
      ]
    },
    {
      "cell_type": "markdown",
      "id": "2ad7b0d7-24dc-47c2-bfeb-22c784814405",
      "metadata": {
        "id": "2ad7b0d7-24dc-47c2-bfeb-22c784814405"
      },
      "source": [
        "#### [Timsort](https://en.wikipedia.org/wiki/Timsort)  \n",
        "\n",
        "*Time O(nlgn = worst case, n = best case), space O(n)*\n",
        "\n",
        "- Timsort is the default implementation of sorting in Python.\n",
        "- It combines merge sort with insertion sort (where each element is inserted into a new sorted list).\n",
        "- It takes advantage of runs of consecutive ordered elements to reduce comparisons (relative to merge sort).\n",
        "- It merges when runs match a specified criterion.\n",
        "- The runs have a minimum size (attained by insertion sort, if needed)."
      ]
    },
    {
      "cell_type": "markdown",
      "id": "035049d1-b2aa-4322-8a6b-302adf46d2a4",
      "metadata": {
        "id": "035049d1-b2aa-4322-8a6b-302adf46d2a4"
      },
      "source": [
        "`sorted(my_iterable)`\n",
        "\n",
        "- Creates a new sorted list.\n",
        "- Works for any iterable."
      ]
    },
    {
      "cell_type": "code",
      "execution_count": 62,
      "id": "ec633d7a-b07b-4637-b2c7-8c0bd38c4f8e",
      "metadata": {
        "colab": {
          "base_uri": "https://localhost:8080/"
        },
        "id": "ec633d7a-b07b-4637-b2c7-8c0bd38c4f8e",
        "outputId": "494e3fe5-7b8a-4bcd-bb88-b23485d02abe"
      },
      "outputs": [
        {
          "output_type": "stream",
          "name": "stdout",
          "text": [
            "89.2 µs ± 28.8 µs per loop (mean ± std. dev. of 7 runs, 10000 loops each)\n"
          ]
        }
      ],
      "source": [
        "%timeit sorted(unsorted_array)"
      ]
    },
    {
      "cell_type": "markdown",
      "id": "b6f66e59-7875-4d78-bc52-597b3b5f22b3",
      "metadata": {
        "id": "b6f66e59-7875-4d78-bc52-597b3b5f22b3"
      },
      "source": [
        "`my_list.sort()`\n",
        "\n",
        "- In-place (only for lists)."
      ]
    },
    {
      "cell_type": "code",
      "execution_count": 63,
      "id": "5cb1e35a-70e0-4e54-aaca-51cea1217470",
      "metadata": {
        "colab": {
          "base_uri": "https://localhost:8080/"
        },
        "id": "5cb1e35a-70e0-4e54-aaca-51cea1217470",
        "outputId": "914e28e9-f4b1-4d83-bb0e-17c3b0284038"
      },
      "outputs": [
        {
          "output_type": "stream",
          "name": "stdout",
          "text": [
            "5.95 µs ± 75.4 ns per loop (mean ± std. dev. of 7 runs, 100000 loops each)\n"
          ]
        }
      ],
      "source": [
        "%timeit unsorted_array.sort()"
      ]
    },
    {
      "cell_type": "markdown",
      "id": "b8067f0e-05ed-4c4a-9cb0-03d51e244b6e",
      "metadata": {
        "id": "b8067f0e-05ed-4c4a-9cb0-03d51e244b6e"
      },
      "source": [
        "## Exercises"
      ]
    },
    {
      "cell_type": "markdown",
      "id": "ce91686f-5158-4091-95b8-76c933c9e76f",
      "metadata": {
        "id": "ce91686f-5158-4091-95b8-76c933c9e76f"
      },
      "source": [
        "```{admonition} Exercise 1\n",
        "\n",
        "What data structure would be suitable for finding or removing duplicate values?\n",
        "\n",
        "a. List  \n",
        "b. Dictionary  \n",
        "c. Queue   \n",
        "d. Set  \n",
        "\n",
        "Test out your answer on the following array:  \n",
        "\n",
        "`array = np.random.choice(100, 80)`  \n",
        "\n",
        "Are there any other ways of doing it?\n",
        "\n",
        "```"
      ]
    },
    {
      "cell_type": "code",
      "source": [
        "array = np.random.choice(100, 80)"
      ],
      "metadata": {
        "id": "klAhjE5Nu94Q"
      },
      "id": "klAhjE5Nu94Q",
      "execution_count": 64,
      "outputs": []
    },
    {
      "cell_type": "code",
      "source": [
        "%%timeit\n",
        "unique_array = np.unique(array)"
      ],
      "metadata": {
        "id": "ej8LGmn4vljS",
        "outputId": "6c581d6f-d351-46bd-e910-bab9b8f65868",
        "colab": {
          "base_uri": "https://localhost:8080/"
        }
      },
      "id": "ej8LGmn4vljS",
      "execution_count": 65,
      "outputs": [
        {
          "output_type": "stream",
          "name": "stdout",
          "text": [
            "7.1 µs ± 1.84 µs per loop (mean ± std. dev. of 7 runs, 100000 loops each)\n"
          ]
        }
      ]
    },
    {
      "cell_type": "code",
      "source": [
        "%%timeit\n",
        "# Make into dictionary and check for duplicate values\n",
        "array_dict = {num: 1 for num in array}\n",
        "unique_array = np.array(list(array_dict.keys()))"
      ],
      "metadata": {
        "id": "y_uzJS57vmtw",
        "outputId": "bd2b2a2a-2ab1-401b-f725-30819085d2bd",
        "colab": {
          "base_uri": "https://localhost:8080/"
        }
      },
      "id": "y_uzJS57vmtw",
      "execution_count": 66,
      "outputs": [
        {
          "output_type": "stream",
          "name": "stdout",
          "text": [
            "25.6 µs ± 6.25 µs per loop (mean ± std. dev. of 7 runs, 10000 loops each)\n"
          ]
        }
      ]
    },
    {
      "cell_type": "code",
      "source": [
        "%%timeit\n",
        "# Make into queue and check for duplicate values\n",
        "queue = []\n",
        "for num in array:\n",
        "    if num not in queue:\n",
        "        queue.append(num)\n",
        "unique_array = np.array(queue)"
      ],
      "metadata": {
        "id": "P65ck5bZvqEA",
        "outputId": "fbaa71f0-70ba-4d1c-f89c-02e5fdcc934c",
        "colab": {
          "base_uri": "https://localhost:8080/"
        }
      },
      "id": "P65ck5bZvqEA",
      "execution_count": 67,
      "outputs": [
        {
          "output_type": "stream",
          "name": "stdout",
          "text": [
            "55 µs ± 871 ns per loop (mean ± std. dev. of 7 runs, 10000 loops each)\n"
          ]
        }
      ]
    },
    {
      "cell_type": "code",
      "source": [
        "%%timeit\n",
        "# Make into set and check for duplicate values\n",
        "unique_array = np.array(list(set(array)))"
      ],
      "metadata": {
        "id": "3CxNZV4kvsLa"
      },
      "id": "3CxNZV4kvsLa",
      "execution_count": null,
      "outputs": []
    },
    {
      "cell_type": "markdown",
      "id": "9f2550f5-59dc-4a76-827d-f99a1b689fd7",
      "metadata": {
        "id": "9f2550f5-59dc-4a76-827d-f99a1b689fd7"
      },
      "source": [
        "```{admonition} Exercise 2\n",
        "\n",
        "In the exercise from the profiling lesson, we saw an example of `two_sum` i.e., finding two numbers from an array of unique integers that add up to a target sum.\n",
        "\n",
        "What would be a good approach for generalising this sum of two numbers to three, four, or n numbers?\n",
        "\n",
        "```"
      ]
    },
    {
      "cell_type": "code",
      "source": [
        "# In the exercise from the profiling lesson, we saw an example of `two_sum` i.e., finding two numbers from an array of unique integers that add up to a target sum.\n",
        "\n",
        "# What would be a good approach for generalising this sum of two numbers to three, four, or n numbers?\n",
        "\n",
        "def two_sum(nums, target):\n",
        "    \"\"\"\n",
        "    :type nums: List[int]\n",
        "    :type target: int\n",
        "    :rtype: List[int]\n",
        "    \"\"\"\n",
        "    for i in range(len(nums)):\n",
        "        for j in range(i + 1, len(nums)):\n",
        "            if nums[i] + nums[j] == target:\n",
        "                return [i, j]\n",
        "\n",
        "def two_sum_dict(nums, target):\n",
        "    \"\"\"\n",
        "    :type nums: List[int]\n",
        "    :type target: int\n",
        "    :rtype: List[int]\n",
        "    \"\"\"\n",
        "    seen = {}\n",
        "    for i, num in enumerate(nums):\n",
        "        if target - num in seen:\n",
        "            return [seen[target - num], i]\n",
        "        seen[num] = i\n",
        "\n",
        "# Now test\n",
        "nums = [2, 7, 11, 15, 13, 2, 3, 4, 5, 6, 7, 8, 9, 10]\n",
        "target = 23\n",
        "%timeit two_sum(nums, target)\n",
        "%timeit two_sum_dict(nums, target)"
      ],
      "metadata": {
        "id": "bPTug8q0vvz2",
        "outputId": "1f2341c0-dda8-4e9f-e783-a66107be479a",
        "colab": {
          "base_uri": "https://localhost:8080/"
        }
      },
      "id": "bPTug8q0vvz2",
      "execution_count": 70,
      "outputs": [
        {
          "output_type": "stream",
          "name": "stdout",
          "text": [
            "6.18 µs ± 1.93 µs per loop (mean ± std. dev. of 7 runs, 100000 loops each)\n",
            "2.16 µs ± 437 ns per loop (mean ± std. dev. of 7 runs, 1000000 loops each)\n"
          ]
        }
      ]
    },
    {
      "cell_type": "markdown",
      "id": "8b6bd89c-8407-4d3c-ae60-fed9b3504750",
      "metadata": {
        "id": "8b6bd89c-8407-4d3c-ae60-fed9b3504750"
      },
      "source": [
        "## {ref}`Solutions <data_structures_and_algorithms>`"
      ]
    },
    {
      "cell_type": "markdown",
      "id": "51787ca2-6ccd-4a1c-b6c0-b6b5b097dbd0",
      "metadata": {
        "id": "51787ca2-6ccd-4a1c-b6c0-b6b5b097dbd0"
      },
      "source": [
        "## Key Points"
      ]
    },
    {
      "cell_type": "markdown",
      "id": "e3f0142f-7e22-4121-812f-517dd58d200b",
      "metadata": {
        "id": "e3f0142f-7e22-4121-812f-517dd58d200b"
      },
      "source": [
        "```{important}\n",
        "\n",
        "- [x] _Make use of the built-in functions e.g, use `len` rather than counting the items in an object in a loop._\n",
        "- [x] _Use appropriate data structures e.g., append to lists rather than concatenating, use dictionaries as fast to search look-ups, cache results in dictionaries to reduce repeated calculations._\n",
        "- [x] _Make use of the standard library (optimised in C) e.g., the `math` module._\n",
        "- [x] _See whether there is an algorithm or library that already optimally solves your problem e.g., faster sorting algorithms_.\n",
        "\n",
        "```"
      ]
    },
    {
      "cell_type": "markdown",
      "id": "8363240e",
      "metadata": {
        "id": "8363240e"
      },
      "source": [
        "## Further information\n",
        "\n",
        "### Other options\n",
        "\n",
        "- [Generators](https://realpython.com/introduction-to-python-generators/) save memory by yielding only the next iteration.\n",
        "- For NetCDFs, using [`engine='h5netcdf'`](https://github.com/shoyer/h5netcdf) with `xarray` can be faster, over than the default [`engine='netcdf4'`](https://github.com/Unidata/netcdf4-python).  \n",
        "- [Compression](https://youtu.be/8pFnrr0NnwY)\n",
        "    - If arrays are mostly 0, then can save memory by using [sparse arrays](https://sparse.pydata.org/en/stable/quickstart.html) ([example](https://ncar.github.io/esds/posts/2022/sparse-PFT-gridding/) using them with Dask and xarray).\n",
        "    - Try [`lz4`](https://lz4.github.io/lz4/), [`snappy`](https://github.com/google/snappy), and [`Z-Standard`](http://facebook.github.io/zstd/) over `gzip` and `bz2` for performance.\n",
        "- [Chunking](https://youtu.be/8pFnrr0NnwY)\n",
        "    - If need all data, then can load/process in chunks to reduce amount in memory: [Zarr](https://zarr.readthedocs.io/en/stable/) for arrays, [Pandas](https://pythonspeed.com/articles/chunking-pandas/).\n",
        "- [Indexing](https://youtu.be/8pFnrr0NnwY)\n",
        "    - If need a subset of the data, then can index (multi-index) to reduce memory and increase speed for queries: [Pandas](https://pythonspeed.com/articles/indexing-pandas-sqlite/), [SQLite](https://docs.python.org/3/library/sqlite3.html).\n",
        "- Suitable data types for parallel computing\n",
        "    - [Parquet](https://examples.dask.org/dataframes/01-data-access.html#Write-to-Parquet) creates efficient tabular data (e.g. dataframes), useful for parallel computing.\n",
        "        - Accessed via [pyarrow](https://arrow.apache.org/docs/python/install.html) or [fastparquet](https://github.com/dask/fastparquet/).\n",
        "    - [Zarr](https://zarr.readthedocs.io/en/stable/) creates compressed, chunked, N-dimensional arrays, designed for use in parallel computing.\n",
        "\n",
        "### Resources\n",
        "\n",
        "- MIT 6.006 '*Introduction to Algorithms*', 2011: [video lectures](https://youtube.com/playlist?list=PLUl4u3cNGP61Oq3tWYp6V_F-5jb5L2iHb)\n",
        "- [LeetCode](https://leetcode.com), [AlgoExpert](https://www.algoexpert.io/product)"
      ]
    }
  ],
  "metadata": {
    "kernelspec": {
      "display_name": "swd6_hpp",
      "language": "python",
      "name": "python3"
    },
    "language_info": {
      "codemirror_mode": {
        "name": "ipython",
        "version": 3
      },
      "file_extension": ".py",
      "mimetype": "text/x-python",
      "name": "python",
      "nbconvert_exporter": "python",
      "pygments_lexer": "ipython3",
      "version": "3.9.20"
    },
    "colab": {
      "provenance": [],
      "include_colab_link": true
    }
  },
  "nbformat": 4,
  "nbformat_minor": 5
}